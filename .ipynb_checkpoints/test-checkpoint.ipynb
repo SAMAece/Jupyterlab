{
 "cells": [
  {
   "cell_type": "code",
   "execution_count": null,
   "id": "f570668c-0763-4c5e-aa77-1558695afed7",
   "metadata": {},
   "outputs": [],
   "source": [
    "import numpy as np\n",
    "import matplotlib.pyplot as plt\n",
    "\n",
    "# input constant and measured value\n",
    "\n",
    "C1 = 3.74 * 10**(-16)\n",
    "C2 = 1.44 * 10**(-2)\n",
    "lamda1 = 595 * 10**(-9)\n",
    "lamda2 = 850 * 10**(-9)\n",
    "I = [158.4633, 135.5285, 126.3134, 118.4849, 118.9239, 152.0942, 240.6112] # 测量得到的 I1/I2\n",
    "T = [1358.97, 1468.2, 1481.9, 1495, 1294.1, 1444.8, 1361.4]; # 已经通过灰体假设得到的温度 (K)\n",
    "\n",
    "epsilon = I * lamda1**5 / lamda2**5 * (np.exp(C2/lamda1*T) -1) / (np.exp(C2/lamda2*T)-1)"
   ]
  }
 ],
 "metadata": {
  "kernelspec": {
   "display_name": "Python 3 (ipykernel)",
   "language": "python",
   "name": "python3"
  },
  "language_info": {
   "codemirror_mode": {
    "name": "ipython",
    "version": 3
   },
   "file_extension": ".py",
   "mimetype": "text/x-python",
   "name": "python",
   "nbconvert_exporter": "python",
   "pygments_lexer": "ipython3",
   "version": "3.10.14"
  }
 },
 "nbformat": 4,
 "nbformat_minor": 5
}
