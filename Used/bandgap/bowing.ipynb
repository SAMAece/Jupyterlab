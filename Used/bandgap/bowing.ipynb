{
 "cells": [
  {
   "cell_type": "code",
   "execution_count": 5,
   "id": "a5bf6b9a-4c45-4f07-a3a3-0ff3ff53699b",
   "metadata": {},
   "outputs": [],
   "source": [
    "# hybrid两端数据还没算出来\n",
    "\n",
    "import pandas as pd\n",
    "import matplotlib.pyplot as plt\n",
    "import numpy as np\n",
    "\n",
    "# create dataframe of band gap\n",
    "bg = pd.DataFrame()\n",
    "bg[\"x\"] = np.linspace(1/12,11/12,11)\n",
    "bg[\"GGA\"] = pd.DataFrame([1.547,1.561,1.575,1.643,1.599,1.624,1.672,1.698,1.722,1.760,1.806])\n",
    "bg[\"hybrid\"] = pd.DataFrame([2.152, 2.175, 2.200, 2.277, 2.246, 2.286, 2.350, 2.383, 2.422, 2.472, 2.531])\n",
    "\n",
    "# delete Br4I8\n",
    "bg = bg.drop(index = 3)\n",
    "\n",
    "# compute fitting coefficient\n",
    "coeGGA = np.polyfit(bg.x,bg.GGA,2)\n",
    "coehybrid = np.polyfit(bg.x,bg.hybrid,2)\n",
    "\n",
    "# build fitting function\n",
    "fit_GGA = np.poly1d(coeGGA)\n",
    "fit_hybrid = np.poly1d(coehybrid)"
   ]
  },
  {
   "cell_type": "code",
   "execution_count": 6,
   "id": "0a5ccf8a-2b9a-4fb2-8bf8-3edb04f42f70",
   "metadata": {},
   "outputs": [
    {
     "data": {
      "text/html": [
       "<div>\n",
       "<style scoped>\n",
       "    .dataframe tbody tr th:only-of-type {\n",
       "        vertical-align: middle;\n",
       "    }\n",
       "\n",
       "    .dataframe tbody tr th {\n",
       "        vertical-align: top;\n",
       "    }\n",
       "\n",
       "    .dataframe thead th {\n",
       "        text-align: right;\n",
       "    }\n",
       "</style>\n",
       "<table border=\"1\" class=\"dataframe\">\n",
       "  <thead>\n",
       "    <tr style=\"text-align: right;\">\n",
       "      <th></th>\n",
       "      <th>x</th>\n",
       "      <th>GGA</th>\n",
       "      <th>hybrid</th>\n",
       "    </tr>\n",
       "  </thead>\n",
       "  <tbody>\n",
       "    <tr>\n",
       "      <th>0</th>\n",
       "      <td>0.083333</td>\n",
       "      <td>1.547</td>\n",
       "      <td>2.152</td>\n",
       "    </tr>\n",
       "    <tr>\n",
       "      <th>1</th>\n",
       "      <td>0.166667</td>\n",
       "      <td>1.561</td>\n",
       "      <td>2.175</td>\n",
       "    </tr>\n",
       "    <tr>\n",
       "      <th>2</th>\n",
       "      <td>0.250000</td>\n",
       "      <td>1.575</td>\n",
       "      <td>2.200</td>\n",
       "    </tr>\n",
       "    <tr>\n",
       "      <th>4</th>\n",
       "      <td>0.416667</td>\n",
       "      <td>1.599</td>\n",
       "      <td>2.246</td>\n",
       "    </tr>\n",
       "    <tr>\n",
       "      <th>5</th>\n",
       "      <td>0.500000</td>\n",
       "      <td>1.624</td>\n",
       "      <td>2.286</td>\n",
       "    </tr>\n",
       "    <tr>\n",
       "      <th>6</th>\n",
       "      <td>0.583333</td>\n",
       "      <td>1.672</td>\n",
       "      <td>2.350</td>\n",
       "    </tr>\n",
       "    <tr>\n",
       "      <th>7</th>\n",
       "      <td>0.666667</td>\n",
       "      <td>1.698</td>\n",
       "      <td>2.383</td>\n",
       "    </tr>\n",
       "    <tr>\n",
       "      <th>8</th>\n",
       "      <td>0.750000</td>\n",
       "      <td>1.722</td>\n",
       "      <td>2.422</td>\n",
       "    </tr>\n",
       "    <tr>\n",
       "      <th>9</th>\n",
       "      <td>0.833333</td>\n",
       "      <td>1.760</td>\n",
       "      <td>2.472</td>\n",
       "    </tr>\n",
       "    <tr>\n",
       "      <th>10</th>\n",
       "      <td>0.916667</td>\n",
       "      <td>1.806</td>\n",
       "      <td>2.531</td>\n",
       "    </tr>\n",
       "  </tbody>\n",
       "</table>\n",
       "</div>"
      ],
      "text/plain": [
       "           x    GGA  hybrid\n",
       "0   0.083333  1.547   2.152\n",
       "1   0.166667  1.561   2.175\n",
       "2   0.250000  1.575   2.200\n",
       "4   0.416667  1.599   2.246\n",
       "5   0.500000  1.624   2.286\n",
       "6   0.583333  1.672   2.350\n",
       "7   0.666667  1.698   2.383\n",
       "8   0.750000  1.722   2.422\n",
       "9   0.833333  1.760   2.472\n",
       "10  0.916667  1.806   2.531"
      ]
     },
     "execution_count": 6,
     "metadata": {},
     "output_type": "execute_result"
    }
   ],
   "source": [
    "bg"
   ]
  },
  {
   "cell_type": "code",
   "execution_count": 8,
   "id": "aaf1c627-bd76-41fc-8241-d56cd3f1ea02",
   "metadata": {},
   "outputs": [
    {
     "data": {
      "text/plain": [
       "<matplotlib.legend.Legend at 0x7f97b554e980>"
      ]
     },
     "execution_count": 8,
     "metadata": {},
     "output_type": "execute_result"
    },
    {
     "data": {
      "image/png": "[encoded data removed]",
      "text/plain": [
       "<Figure size 640x480 with 1 Axes>"
      ]
     },
     "metadata": {},
     "output_type": "display_data"
    }
   ],
   "source": [
    "plt.scatter(bg.x, bg.GGA, label = \"GGA\")\n",
    "plt.scatter(bg.x, bg.hybrid, label = \"Hybrid\")\n",
    "plt.plot(np.linspace(0,1,100),fit_GGA(np.linspace(0,1,100)))\n",
    "plt.plot(np.linspace(0,1,100),fit_hybrid(np.linspace(0,1,100)))\n",
    "plt.xlabel(\"Br content x in $FAPb(Br_xI_{(1-x)})_3$\")\n",
    "plt.ylabel(\"Band gap (eV)\")\n",
    "plt.legend()"
   ]
  },
  {
   "cell_type": "code",
   "execution_count": null,
   "id": "225ce0aa-4e9d-410b-a366-d7f5b1d4fdac",
   "metadata": {},
   "outputs": [],
   "source": []
  }
 ],
 "metadata": {
  "kernelspec": {
   "display_name": "Python 3 (ipykernel)",
   "language": "python",
   "name": "python3"
  },
  "language_info": {
   "codemirror_mode": {
    "name": "ipython",
    "version": 3
   },
   "file_extension": ".py",
   "mimetype": "text/x-python",
   "name": "python",
   "nbconvert_exporter": "python",
   "pygments_lexer": "ipython3",
   "version": "3.10.14"
  }
 },
 "nbformat": 4,
 "nbformat_minor": 5
}
