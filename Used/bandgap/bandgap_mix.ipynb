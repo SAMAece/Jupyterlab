{
 "cells": [
  {
   "cell_type": "code",
   "execution_count": 1,
   "id": "d59af0f3-056f-480c-af11-f05bfb5c67fc",
   "metadata": {},
   "outputs": [],
   "source": [
    "import pandas as pd\n",
    "import numpy as np\n",
    "import matplotlib.pyplot as plt\n",
    "\n",
    "# create bandgap\n",
    "bg = {\n",
    "    \"x\":np.linspace(0,1,13),\n",
    "    \"GGA\":[1.523,1.547,1.561,1.575,1.643,1.599,1.624,1.672,1.698,1.722,1.760,1.806,1.844], \n",
    "    \"HSE06\":[2.116, 2.152, 2.175, 2.200, 2.277, 2.246, 2.286, 2.350, 2.383, 2.422, 2.472, 2.531, 2.587],\n",
    "}\n",
    "\n",
    "df = pd.DataFrame(bg)\n",
    "\n",
    "# input computed value with different functionals\n",
    "df.at[0, \"prim_HSE06\"] = 1.788\n",
    "df.at[12, \"prim_HSE06\"] = 2.238\n",
    "df.at[0, \"prim_HSE43\"] = 2.189\n",
    "df.at[12, \"prim_HSE43\"] = 2.730\n",
    "df.at[0, \"prim_SOC06\"] = 0.731\n",
    "df.at[12, \"prim_SOC06\"] = 1.270\n",
    "df.at[0, \"prim_SOC43\"] = 1.195\n",
    "df.at[12, \"prim_SOC43\"] = 1.806\n",
    "\n",
    "# calculate correction of functionals\n",
    "df[\"c43_06\"] = (df.prim_HSE43-df.prim_HSE06+df.prim_SOC43-df.prim_SOC06)/2\n",
    "df[\"SOC_HSE\"] = (df.prim_SOC06-df.prim_HSE06+df.prim_SOC43-df.prim_HSE43)/2\n",
    "correction_43_06 = df.c43_06.mean()\n",
    "correction_SOC_HSE = df.SOC_HSE.mean()\n",
    "correction_SOC43_HSE06 = correction_43_06 + correction_SOC_HSE\n",
    "\n",
    "# create corrected SOC43 from functional difference\n",
    "df[\"SOC43corrected\"] = df.HSE06 + correction_SOC43_HSE06\n",
    "\n",
    "# input exp data\n",
    "df.at[0, \"exp\"] = 1.48\n",
    "df.at[12, \"exp\"] = 2.23\n",
    "\n",
    "# calculate scaled data\n",
    "df[\"scaled_data\"] = (df.SOC43corrected - df.SOC43corrected[0]) * (df.exp[12] - df.exp[0]) / (df.SOC43corrected[12] - df.SOC43corrected[0]) + df.exp[0]\n",
    "\n",
    "# remove error Br4I8\n",
    "bg = pd.DataFrame({\"bandgap\" : df.scaled_data})\n",
    "bg[\"x\"] = np.linspace(0,1,13)\n",
    "bg = bg.drop(index = 4)\n",
    "\n",
    "#compute fitting coefficient\n",
    "coe = np.polyfit(bg.x, bg.bandgap, 2)\n",
    "fit = np.poly1d(coe)\n"
   ]
  },
  {
   "cell_type": "code",
   "execution_count": 2,
   "id": "f5bc6c95-6b08-4f1e-a47b-8fbc076bef74",
   "metadata": {},
   "outputs": [
    {
     "name": "stdout",
     "output_type": "stream",
     "text": [
      "           x    GGA  HSE06  prim_HSE06  prim_HSE43  prim_SOC06  prim_SOC43  \\\n",
      "0   0.000000  1.523  2.116       1.788       2.189       0.731       1.195   \n",
      "1   0.083333  1.547  2.152         NaN         NaN         NaN         NaN   \n",
      "2   0.166667  1.561  2.175         NaN         NaN         NaN         NaN   \n",
      "3   0.250000  1.575  2.200         NaN         NaN         NaN         NaN   \n",
      "4   0.333333  1.643  2.277         NaN         NaN         NaN         NaN   \n",
      "5   0.416667  1.599  2.246         NaN         NaN         NaN         NaN   \n",
      "6   0.500000  1.624  2.286         NaN         NaN         NaN         NaN   \n",
      "7   0.583333  1.672  2.350         NaN         NaN         NaN         NaN   \n",
      "8   0.666667  1.698  2.383         NaN         NaN         NaN         NaN   \n",
      "9   0.750000  1.722  2.422         NaN         NaN         NaN         NaN   \n",
      "10  0.833333  1.760  2.472         NaN         NaN         NaN         NaN   \n",
      "11  0.916667  1.806  2.531         NaN         NaN         NaN         NaN   \n",
      "12  1.000000  1.844  2.587       2.238       2.730       1.270       1.806   \n",
      "\n",
      "    c43_06  SOC_HSE  SOC43corrected   exp  scaled_data  \n",
      "0   0.4325  -1.0255          1.6035  1.48     1.480000  \n",
      "1      NaN      NaN          1.6395   NaN     1.537325  \n",
      "2      NaN      NaN          1.6625   NaN     1.573949  \n",
      "3      NaN      NaN          1.6875   NaN     1.613758  \n",
      "4      NaN      NaN          1.7645   NaN     1.736369  \n",
      "5      NaN      NaN          1.7335   NaN     1.687006  \n",
      "6      NaN      NaN          1.7735   NaN     1.750701  \n",
      "7      NaN      NaN          1.8375   NaN     1.852611  \n",
      "8      NaN      NaN          1.8705   NaN     1.905159  \n",
      "9      NaN      NaN          1.9095   NaN     1.967261  \n",
      "10     NaN      NaN          1.9595   NaN     2.046879  \n",
      "11     NaN      NaN          2.0185   NaN     2.140828  \n",
      "12  0.5140  -0.9460          2.0745  2.23     2.230000  \n",
      "     bandgap         x\n",
      "0   1.480000  0.000000\n",
      "1   1.537325  0.083333\n",
      "2   1.573949  0.166667\n",
      "3   1.613758  0.250000\n",
      "5   1.687006  0.416667\n",
      "6   1.750701  0.500000\n",
      "7   1.852611  0.583333\n",
      "8   1.905159  0.666667\n",
      "9   1.967261  0.750000\n",
      "10  2.046879  0.833333\n",
      "11  2.140828  0.916667\n",
      "12  2.230000  1.000000\n",
      "correction 43-06 is 0.47325000000000006\n",
      "correction SOC-HSE is -0.98575\n"
     ]
    }
   ],
   "source": [
    "print(df)\n",
    "print(bg)\n",
    "print(\"correction 43-06 is\", correction_43_06)\n",
    "print(\"correction SOC-HSE is\", correction_SOC_HSE)"
   ]
  },
  {
   "cell_type": "code",
   "execution_count": 3,
   "id": "93709b3b-a736-4e0b-885b-541afcf61650",
   "metadata": {},
   "outputs": [
    {
     "data": {
      "text/plain": [
       "<matplotlib.legend.Legend at 0x7f922a2758a0>"
      ]
     },
     "execution_count": 3,
     "metadata": {},
     "output_type": "execute_result"
    },
    {
     "data": {
      "image/png": "[encoded data removed]",
      "text/plain": [
       "<Figure size 640x480 with 1 Axes>"
      ]
     },
     "metadata": {},
     "output_type": "display_data"
    }
   ],
   "source": [
    "#plt.plot(df.x, df.GGA, label = \"GGA\")\n",
    "plt.scatter(df.x, df.HSE06, label = \"HSE06\")\n",
    "#plt.scatter(df.x, df.prim_HSE06, label = \"prim_HSE06\")\n",
    "#plt.scatter(df.x, df.prim_HSE43, label = \"prim_HSE43\")\n",
    "#plt.scatter(df.x, df.prim_SOC06, label = \"prim_SOC06\")\n",
    "#plt.scatter(df.x, df.prim_SOC43, label = \"prim_SOC43\")\n",
    "#plt.plot(df.x, df.SOC43corrected, label = \"SOC43 correction\")\n",
    "#plt.scatter(df.x, df.scaled_data, label = \"scaled band gap\")\n",
    "plt.scatter(bg.x, bg.bandgap, label = 'corrected band gap')\n",
    "plt.plot(np.linspace(0,1,100), fit(np.linspace(0,1,100)), label = \"fitted band gap\")\n",
    "plt.legend()"
   ]
  },
  {
   "cell_type": "code",
   "execution_count": null,
   "id": "3745dd59-d38c-4cc1-87eb-4f4d5603eb7a",
   "metadata": {},
   "outputs": [],
   "source": []
  }
 ],
 "metadata": {
  "kernelspec": {
   "display_name": "Python 3 (ipykernel)",
   "language": "python",
   "name": "python3"
  },
  "language_info": {
   "codemirror_mode": {
    "name": "ipython",
    "version": 3
   },
   "file_extension": ".py",
   "mimetype": "text/x-python",
   "name": "python",
   "nbconvert_exporter": "python",
   "pygments_lexer": "ipython3",
   "version": "3.10.14"
  }
 },
 "nbformat": 4,
 "nbformat_minor": 5
}
