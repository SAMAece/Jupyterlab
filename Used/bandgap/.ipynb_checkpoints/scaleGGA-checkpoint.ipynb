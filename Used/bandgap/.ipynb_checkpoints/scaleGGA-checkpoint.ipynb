{
 "cells": [
  {
   "cell_type": "code",
   "execution_count": 4,
   "id": "3f9e2ab8-6ba7-4c49-8ecf-4d8dbbd00385",
   "metadata": {},
   "outputs": [
    {
     "name": "stdout",
     "output_type": "stream",
     "text": [
      "[1.48       1.53607477 1.56878505 1.60149533 1.76037383 1.65757009\n",
      " 1.71598131 1.82813084 1.8888785  1.94495327 2.03373832 2.14121495\n",
      " 2.23      ]\n"
     ]
    }
   ],
   "source": [
    "import numpy as np\n",
    "\n",
    "# Original data\n",
    "data = np.array([1.523, 1.547, 1.561, 1.575, 1.643, 1.599, 1.624, 1.672, 1.698, 1.722, 1.760, 1.806, 1.844])\n",
    "\n",
    "# Target min and max\n",
    "a, b = 1.48, 2.23\n",
    "\n",
    "# Linear scaling\n",
    "scaled_data = (data - data.min()) * (b - a) / (data.max() - data.min()) + a\n",
    "\n",
    "\n",
    "print(scaled_data)"
   ]
  },
  {
   "cell_type": "code",
   "execution_count": null,
   "id": "b6ca3f96-ce95-494f-a6c6-b2f3c92507a8",
   "metadata": {},
   "outputs": [],
   "source": []
  },
  {
   "cell_type": "code",
   "execution_count": null,
   "id": "216eb55b-7269-4d12-85e0-90c3299c344a",
   "metadata": {},
   "outputs": [],
   "source": []
  }
 ],
 "metadata": {
  "kernelspec": {
   "display_name": "Python 3 (ipykernel)",
   "language": "python",
   "name": "python3"
  },
  "language_info": {
   "codemirror_mode": {
    "name": "ipython",
    "version": 3
   },
   "file_extension": ".py",
   "mimetype": "text/x-python",
   "name": "python",
   "nbconvert_exporter": "python",
   "pygments_lexer": "ipython3",
   "version": "3.10.14"
  }
 },
 "nbformat": 4,
 "nbformat_minor": 5
}
