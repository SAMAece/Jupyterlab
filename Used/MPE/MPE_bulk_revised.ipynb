{
 "cells": [
  {
   "cell_type": "code",
   "execution_count": null,
   "id": "a68417ce-26a8-41d1-b193-8c1cfa178a98",
   "metadata": {},
   "outputs": [],
   "source": [
    "import pymatgen.analysis.solar.slme as slme\n",
    "import numpy as np\n",
    "import matplotlib.pyplot as plt\n",
    "\n",
    "thickness = np.logspace(-8, -3, 100, endpoint=True)\n",
    "thickness_nm = thickness*1000000000\n",
    "\n",
    "materials = {\n",
    "    \"I_HSE06\": {\n",
    "        \"dir\" : 1.788\n",
    "        \"indir\" :1.788\n",
    "        \"folder\"\n",
    "    }\n",
    "    \"I_SOC43\": \n",
    "}"
   ]
  }
 ],
 "metadata": {
  "kernelspec": {
   "display_name": "Python 3 (ipykernel)",
   "language": "python",
   "name": "python3"
  },
  "language_info": {
   "codemirror_mode": {
    "name": "ipython",
    "version": 3
   },
   "file_extension": ".py",
   "mimetype": "text/x-python",
   "name": "python",
   "nbconvert_exporter": "python",
   "pygments_lexer": "ipython3",
   "version": "3.10.14"
  }
 },
 "nbformat": 4,
 "nbformat_minor": 5
}
