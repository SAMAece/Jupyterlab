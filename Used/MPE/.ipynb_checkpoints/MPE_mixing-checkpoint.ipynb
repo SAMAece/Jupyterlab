{
 "cells": [
  {
   "cell_type": "code",
   "execution_count": 1,
   "id": "35c6589a-b589-4edc-8618-58b6cc80b430",
   "metadata": {},
   "outputs": [],
   "source": [
    "import pymatgen.analysis.solar.slme as slme\n",
    "import numpy as np\n",
    "import matplotlib.pyplot as plt"
   ]
  },
  {
   "cell_type": "code",
   "execution_count": 2,
   "id": "c035f77c-66d0-497a-b3f9-5c7cbd4a931f",
   "metadata": {},
   "outputs": [],
   "source": [
    "#Repeat over a range of thickness\n",
    "thickness = np.logspace(-8, -3, 100, endpoint=True)\n",
    "thickness_nm = thickness*1000000000"
   ]
  },
  {
   "cell_type": "markdown",
   "id": "8a6456fa-a613-4e18-8414-07742ef1b3f2",
   "metadata": {},
   "source": [
    "## load absorption data by absorption.dat"
   ]
  },
  {
   "cell_type": "code",
   "execution_count": 3,
   "id": "8b9a894a-34a0-4668-b298-279220597b49",
   "metadata": {},
   "outputs": [],
   "source": [
    "material1 = {\n",
    "    \"I_hybrid\": {\n",
    "        \"dir\": 1.788,   # hybrid Direct bandgap value\n",
    "        \"indir\": 1.788, # Indirect bandgap value\n",
    "        \"folder\": \"./\", # Path to the folder that have all the required file\n",
    "    },\n",
    "    \n",
    "  } "
   ]
  },
  {
   "cell_type": "code",
   "execution_count": 4,
   "id": "53e2ef09-c587-4b05-a7c9-61cae7b0119d",
   "metadata": {},
   "outputs": [],
   "source": [
    "material2 = {\n",
    "    \"Br_hybrid\": {\n",
    "        \"dir\": 2.238,   # hybrid Direct bandgap value\n",
    "        \"indir\": 2.238, # Indirect bandgap value\n",
    "        \"folder\": \"./\", # Path to the folder that have all the required file\n",
    "    },\n",
    "    \n",
    "  } "
   ]
  },
  {
   "cell_type": "code",
   "execution_count": 5,
   "id": "c6fac8d0-a6e9-458c-b1d1-74b07be1bc39",
   "metadata": {},
   "outputs": [],
   "source": [
    "material3 = {\n",
    "    \"Br1I11\": {\n",
    "        \"dir\": 2.152,   # hybrid Direct bandgap value\n",
    "        \"indir\": 2.152, # Indirect bandgap value\n",
    "        \"folder\": \"./\", # Path to the folder that have all the required file\n",
    "    },\n",
    "    \n",
    "  } "
   ]
  },
  {
   "cell_type": "code",
   "execution_count": 6,
   "id": "495aad7f-dec4-4466-aba4-2669a9bf4118",
   "metadata": {},
   "outputs": [],
   "source": [
    "material4 = {\n",
    "    \"Br2I10\": {\n",
    "        \"dir\": 2.175,   # Direct bandgap value\n",
    "        \"indir\": 2.175, # Indirect bandgap value\n",
    "        \"folder\": \"./\", # Path to the folder that have all the required file\n",
    "    },\n",
    "    \n",
    "  } "
   ]
  },
  {
   "cell_type": "code",
   "execution_count": 7,
   "id": "13ba2165-ec48-49ae-a502-c146ef7c100d",
   "metadata": {},
   "outputs": [],
   "source": [
    "material5 = {\n",
    "    \"Br3I9\": {\n",
    "        \"dir\": 2.200,   # Direct bandgap value\n",
    "        \"indir\": 2.200, # Indirect bandgap value\n",
    "        \"folder\": \"./\", # Path to the folder that have all the required file\n",
    "    },\n",
    "    \n",
    "  } "
   ]
  },
  {
   "cell_type": "code",
   "execution_count": 8,
   "id": "05f0086c-c426-48dc-bdc7-54ffaad42c5d",
   "metadata": {},
   "outputs": [],
   "source": [
    "material6 = {\n",
    "    \"Br4I8\": {\n",
    "        \"dir\": 2.277,   # Direct bandgap value\n",
    "        \"indir\": 2.277, # Indirect bandgap value\n",
    "        \"folder\": \"./\", # Path to the folder that have all the required file\n",
    "    },\n",
    "    \n",
    "  } "
   ]
  },
  {
   "cell_type": "code",
   "execution_count": 9,
   "id": "38f5d341-6a81-4f5e-8547-087f4b9cb2be",
   "metadata": {},
   "outputs": [],
   "source": [
    "material7 = {\n",
    "    \"Br5I7\": {\n",
    "        \"dir\": 2.246,   # Direct bandgap value\n",
    "        \"indir\": 2.246, # Indirect bandgap value\n",
    "        \"folder\": \"./\", # Path to the folder that have all the required file\n",
    "    },\n",
    "    \n",
    "  } "
   ]
  },
  {
   "cell_type": "code",
   "execution_count": 10,
   "id": "1f5eee66-41a1-4f0d-a779-49b89ba457df",
   "metadata": {},
   "outputs": [],
   "source": [
    "material8 = {\n",
    "    \"Br6I6\": {\n",
    "        \"dir\": 2.286,   # Direct bandgap value\n",
    "        \"indir\": 2.286, # Indirect bandgap value\n",
    "        \"folder\": \"./\", # Path to the folder that have all the required file\n",
    "    },\n",
    "    \n",
    "  } "
   ]
  },
  {
   "cell_type": "code",
   "execution_count": 11,
   "id": "7dee4edc-6a8e-4842-9a77-c3b44e3a56eb",
   "metadata": {},
   "outputs": [],
   "source": [
    "material9 = {\n",
    "    \"Br7I5\": {\n",
    "        \"dir\": 2.350,   # Direct bandgap value\n",
    "        \"indir\": 2.350, # Indirect bandgap value\n",
    "        \"folder\": \"./\", # Path to the folder that have all the required file\n",
    "    },\n",
    "    \n",
    "  } "
   ]
  },
  {
   "cell_type": "code",
   "execution_count": 12,
   "id": "14c6b3c2-de29-42e0-bd7c-77eff89f319f",
   "metadata": {},
   "outputs": [],
   "source": [
    "material10 = {\n",
    "    \"Br8I4\": {\n",
    "        \"dir\": 2.383,   # Direct bandgap value\n",
    "        \"indir\": 2.383, # Indirect bandgap value\n",
    "        \"folder\": \"./\", # Path to the folder that have all the required file\n",
    "    },\n",
    "    \n",
    "  } "
   ]
  },
  {
   "cell_type": "code",
   "execution_count": 13,
   "id": "d00b5b6a-2c1b-42b7-a187-a09e2b01a61c",
   "metadata": {},
   "outputs": [],
   "source": [
    "material11 = {\n",
    "    \"Br9I3\": {\n",
    "        \"dir\": 2.422,   # Direct bandgap value\n",
    "        \"indir\": 2.422, # Indirect bandgap value\n",
    "        \"folder\": \"./\", # Path to the folder that have all the required file\n",
    "    },\n",
    "    \n",
    "  } "
   ]
  },
  {
   "cell_type": "code",
   "execution_count": 14,
   "id": "f85b9cc8-16ec-46b3-ab9f-82fe76082043",
   "metadata": {},
   "outputs": [],
   "source": [
    "material12 = {\n",
    "    \"Br10I2\": {\n",
    "        \"dir\": 2.472,   # Direct bandgap value\n",
    "        \"indir\": 2.472, # Indirect bandgap value\n",
    "        \"folder\": \"./\", # Path to the folder that have all the required file\n",
    "    },\n",
    "    \n",
    "  } "
   ]
  },
  {
   "cell_type": "code",
   "execution_count": 15,
   "id": "068cc6b5-ddd1-473e-a862-925c6a64763a",
   "metadata": {},
   "outputs": [],
   "source": [
    "material13 = {\n",
    "    \"Br11I1\": {\n",
    "        \"dir\": 2.531,   # Direct bandgap value\n",
    "        \"indir\": 2.531, # Indirect bandgap value\n",
    "        \"folder\": \"./\", # Path to the folder that have all the required file\n",
    "    },\n",
    "    \n",
    "  } "
   ]
  },
  {
   "cell_type": "markdown",
   "id": "c9d2ec88-7766-47c8-bc0a-d7e089c5d805",
   "metadata": {},
   "source": [
    "## input10"
   ]
  },
  {
   "cell_type": "code",
   "execution_count": 16,
   "id": "55d602c7-24cc-44f3-9ee5-338cfac395f9",
   "metadata": {},
   "outputs": [],
   "source": [
    "for material1, material_data1 in material1.items():\n",
    "    data1 = np.loadtxt(material_data1[\"folder\"] + '/I_hybrid.dat', delimiter=' ')\n",
    "    energy1 = data1[:,0]\n",
    "    alpha_cm1 = data1[:,1]\n",
    "    effSlm1 = []"
   ]
  },
  {
   "cell_type": "code",
   "execution_count": 17,
   "id": "8f17e30d-e1e2-4430-bbfd-d6bc2555663d",
   "metadata": {},
   "outputs": [],
   "source": [
    "for material2, material_data2 in material2.items():\n",
    "    data2 = np.loadtxt(material_data2[\"folder\"] + '/Br_hybrid.dat', delimiter=' ')\n",
    "    energy2 = data2[:,0]\n",
    "    alpha_cm2 = data2[:,1]\n",
    "    effSlm2 = []"
   ]
  },
  {
   "cell_type": "code",
   "execution_count": 18,
   "id": "9dbdf28b-3fbe-4c52-ac4a-01a36775e88d",
   "metadata": {},
   "outputs": [],
   "source": [
    "for material3, material_data3 in material3.items():\n",
    "    data3 = np.loadtxt(material_data3[\"folder\"] + '/Br1I11.dat', delimiter=' ')\n",
    "    energy3 = data3[:,0]\n",
    "    alpha_cm3 = data3[:,1]\n",
    "    effSlm3 = []"
   ]
  },
  {
   "cell_type": "code",
   "execution_count": 19,
   "id": "0cd7809c-80cb-4fea-ba01-6ada8e5f35ab",
   "metadata": {},
   "outputs": [],
   "source": [
    "for material4, material_data4 in material4.items():\n",
    "    data4 = np.loadtxt(material_data4[\"folder\"] + '/Br2I10.dat', delimiter=' ')\n",
    "    energy4 = data4[:,0]\n",
    "    alpha_cm4 = data4[:,1]\n",
    "    effSlm4 = []"
   ]
  },
  {
   "cell_type": "code",
   "execution_count": 20,
   "id": "b6f7df18-1cfc-466c-aefe-5b67f134f8d4",
   "metadata": {},
   "outputs": [],
   "source": [
    "for material5, material_data5 in material5.items():\n",
    "    data5 = np.loadtxt(material_data5[\"folder\"] + '/Br3I9.dat', delimiter=' ')\n",
    "    energy5 = data5[:,0]\n",
    "    alpha_cm5 = data5[:,1]\n",
    "    effSlm5 = []"
   ]
  },
  {
   "cell_type": "code",
   "execution_count": 21,
   "id": "47c979cf-5c85-48cf-906b-491442dc5ed2",
   "metadata": {},
   "outputs": [],
   "source": [
    "#for material6, material_data6 in material6.items():\n",
    "#    data6 = np.loadtxt(material_data6[\"folder\"] + '/Br4I8.dat', delimiter=' ')\n",
    "#    energy6 = data6[:,0]\n",
    "#    alpha_cm6 = data6[:,1]\n",
    "#    effSlm6 = []"
   ]
  },
  {
   "cell_type": "code",
   "execution_count": 22,
   "id": "ee10d538-8138-4084-8183-ed53eaccf8f4",
   "metadata": {},
   "outputs": [],
   "source": [
    "for material7, material_data7 in material7.items():\n",
    "    data7 = np.loadtxt(material_data7[\"folder\"] + '/Br5I7.dat', delimiter=' ')\n",
    "    energy7 = data7[:,0]\n",
    "    alpha_cm7 = data7[:,1]\n",
    "    effSlm7 = []"
   ]
  },
  {
   "cell_type": "code",
   "execution_count": 23,
   "id": "330efddd-85d3-4784-8595-7c242da8542a",
   "metadata": {},
   "outputs": [],
   "source": [
    "for material8, material_data8 in material8.items():\n",
    "    data8 = np.loadtxt(material_data8[\"folder\"] + '/Br6I6.dat', delimiter=' ')\n",
    "    energy8 = data8[:,0]\n",
    "    alpha_cm8 = data8[:,1]\n",
    "    effSlm8 = []"
   ]
  },
  {
   "cell_type": "code",
   "execution_count": 24,
   "id": "4c20f838-34e9-4418-b611-a9f9a16dbb5d",
   "metadata": {},
   "outputs": [],
   "source": [
    "for material9, material_data9 in material9.items():\n",
    "    data9 = np.loadtxt(material_data9[\"folder\"] + '/Br7I5.dat', delimiter=' ')\n",
    "    energy9 = data9[:,0]\n",
    "    alpha_cm9 = data9[:,1]\n",
    "    effSlm9 = []"
   ]
  },
  {
   "cell_type": "code",
   "execution_count": 25,
   "id": "47baabd0-0dec-414c-b2f8-da9dfd96392e",
   "metadata": {},
   "outputs": [],
   "source": [
    "#for material10, material_data10 in material10.items():\n",
    "#    data10 = np.loadtxt(material_data10[\"folder\"] + '/Br8I4.dat', delimiter=' ')\n",
    "#    energy10 = data10[:,0]\n",
    "#    alpha_cm10 = data10[:,1]\n",
    "#    effSlm10 = []"
   ]
  },
  {
   "cell_type": "code",
   "execution_count": 26,
   "id": "0cf19faf-53dc-404a-b22f-050283433659",
   "metadata": {},
   "outputs": [],
   "source": [
    "#for material11, material_data11 in material11.items():\n",
    "#    data11 = np.loadtxt(material_data11[\"folder\"] + '/Br9I3.dat', delimiter=' ')\n",
    "#    energy11 = data11[:,0]\n",
    "#    alpha_cm11 = data11[:,1]\n",
    "#    effSlm11 = []"
   ]
  },
  {
   "cell_type": "code",
   "execution_count": 27,
   "id": "a3966964-924e-4beb-9b52-4419b27dbac1",
   "metadata": {},
   "outputs": [],
   "source": [
    "#for material12, material_data12 in material12.items():\n",
    "#    data12 = np.loadtxt(material_data12[\"folder\"] + '/Br10I2.dat', delimiter=' ')\n",
    "#    energy12 = data12[:,0]\n",
    "#    alpha_cm12 = data12[:,1]\n",
    "#    effSlm12 = []"
   ]
  },
  {
   "cell_type": "code",
   "execution_count": 28,
   "id": "759d410b-4d57-41ef-84b4-87d1f1bf544b",
   "metadata": {},
   "outputs": [],
   "source": [
    "for material13, material_data13 in material13.items():\n",
    "    data13 = np.loadtxt(material_data13[\"folder\"] + '/Br11I1.dat', delimiter=' ')\n",
    "    energy13 = data13[:,0]\n",
    "    alpha_cm13 = data13[:,1]\n",
    "    effSlm13 = []"
   ]
  },
  {
   "cell_type": "markdown",
   "id": "64cf5e99-9831-41e4-8ebd-27111f686f28",
   "metadata": {},
   "source": [
    "## iteration8"
   ]
  },
  {
   "cell_type": "code",
   "execution_count": 29,
   "id": "d35abff5-9aa8-405b-a0bf-8c2030d8bc01",
   "metadata": {},
   "outputs": [],
   "source": [
    "for i in thickness:\n",
    "    eff1 = data1 = slme.slme(energy1,alpha_cm1,material_data1[\"dir\"],material_data1[\"indir\"],thickness=i,absorbance_in_inverse_centimeters=True)\n",
    "    effSlm1.append(eff1)"
   ]
  },
  {
   "cell_type": "code",
   "execution_count": 30,
   "id": "d8479fdb-5bdc-47b0-921e-c29a0a69755a",
   "metadata": {},
   "outputs": [],
   "source": [
    "for i in thickness:\n",
    "    eff2 = data2 = slme.slme(energy2,alpha_cm2,material_data2[\"dir\"],material_data2[\"indir\"],thickness=i,absorbance_in_inverse_centimeters=True)\n",
    "    effSlm2.append(eff2)"
   ]
  },
  {
   "cell_type": "code",
   "execution_count": 31,
   "id": "230d1913-715f-4ba5-8980-8f9936c1b2c7",
   "metadata": {},
   "outputs": [],
   "source": [
    "for i in thickness:\n",
    "    eff3 = data3 = slme.slme(energy3,alpha_cm3,material_data3[\"dir\"],material_data3[\"indir\"],thickness=i,absorbance_in_inverse_centimeters=True)\n",
    "    effSlm3.append(eff3)"
   ]
  },
  {
   "cell_type": "code",
   "execution_count": 32,
   "id": "47e530b2-8a8d-4f32-8df1-2ee3fa3b729b",
   "metadata": {},
   "outputs": [],
   "source": [
    "for i in thickness:\n",
    "    eff4 = data4 = slme.slme(energy4,alpha_cm4,material_data4[\"dir\"],material_data4[\"indir\"],thickness=i,absorbance_in_inverse_centimeters=True)\n",
    "    effSlm4.append(eff4)"
   ]
  },
  {
   "cell_type": "code",
   "execution_count": 33,
   "id": "5a2c3aaa-56e6-4136-a138-6219ec049dd3",
   "metadata": {},
   "outputs": [],
   "source": [
    "for i in thickness:\n",
    "    eff5 = data5 = slme.slme(energy5,alpha_cm5,material_data5[\"dir\"],material_data5[\"indir\"],thickness=i,absorbance_in_inverse_centimeters=True)\n",
    "    effSlm5.append(eff5)"
   ]
  },
  {
   "cell_type": "code",
   "execution_count": 34,
   "id": "6cc89d74-a4e8-4e9f-b243-168beb57f748",
   "metadata": {},
   "outputs": [],
   "source": [
    "#for i in thickness:\n",
    "#    eff6 = data6 = slme.slme(energy6,alpha_cm6,material_data6[\"dir\"],material_data6[\"indir\"],thickness=i,absorbance_in_inverse_centimeters=True)\n",
    "#    effSlm6.append(eff6)"
   ]
  },
  {
   "cell_type": "code",
   "execution_count": 35,
   "id": "30e79497-9bb9-449d-917c-c6e78f58fd7a",
   "metadata": {},
   "outputs": [],
   "source": [
    "for i in thickness:\n",
    "    eff7 = data7 = slme.slme(energy7,alpha_cm7,material_data7[\"dir\"],material_data7[\"indir\"],thickness=i,absorbance_in_inverse_centimeters=True)\n",
    "    effSlm7.append(eff7)"
   ]
  },
  {
   "cell_type": "code",
   "execution_count": 36,
   "id": "ef58b181-fe6f-4cc5-866f-443f39c51157",
   "metadata": {},
   "outputs": [
    {
     "name": "stderr",
     "output_type": "stream",
     "text": [
      "/home/guanyu/miniconda3/envs/sqs/lib/python3.10/site-packages/pymatgen/analysis/solar/slme.py:246: RuntimeWarning: overflow encountered in exp\n",
      "  return J_sc - J_0 * (np.exp(e * V / (k * temperature)) - 1.0)\n"
     ]
    }
   ],
   "source": [
    "for i in thickness:\n",
    "    eff8 = data8 = slme.slme(energy8,alpha_cm8,material_data8[\"dir\"],material_data8[\"indir\"],thickness=i,absorbance_in_inverse_centimeters=True)\n",
    "    effSlm8.append(eff8)"
   ]
  },
  {
   "cell_type": "code",
   "execution_count": 37,
   "id": "4ea62d9f-fcfd-47d5-8b73-61582fe9473a",
   "metadata": {},
   "outputs": [],
   "source": [
    "for i in thickness:\n",
    "    eff9 = data9 = slme.slme(energy9,alpha_cm9,material_data9[\"dir\"],material_data9[\"indir\"],thickness=i,absorbance_in_inverse_centimeters=True)\n",
    "    effSlm9.append(eff9)"
   ]
  },
  {
   "cell_type": "code",
   "execution_count": 38,
   "id": "da2ba9f4-7823-4932-b100-8a2be2132987",
   "metadata": {},
   "outputs": [],
   "source": [
    "#for i in thickness:\n",
    "#    eff10 = data10 = slme.slme(energy10,alpha_cm10,material_data10[\"dir\"],material_data10[\"indir\"],thickness=i,absorbance_in_inverse_centimeters=True)\n",
    "#    effSlm10.append(eff10)"
   ]
  },
  {
   "cell_type": "code",
   "execution_count": 39,
   "id": "70edae0d-5ca1-490b-b557-db6ff383929e",
   "metadata": {},
   "outputs": [],
   "source": [
    "#for i in thickness:\n",
    "#    eff11 = data11 = slme.slme(energy11,alpha_cm11,material_data11[\"dir\"],material_data11[\"indir\"],thickness=i,absorbance_in_inverse_centimeters=True)\n",
    "#    effSlm11.append(eff11)"
   ]
  },
  {
   "cell_type": "code",
   "execution_count": 40,
   "id": "aa9eb551-5c0e-4317-a69e-273ee77298ec",
   "metadata": {},
   "outputs": [],
   "source": [
    "#for i in thickness:\n",
    "#    eff12 = data12 = slme.slme(energy12,alpha_cm12,material_data12[\"dir\"],material_data12[\"indir\"],thickness=i,absorbance_in_inverse_centimeters=True)\n",
    "#    effSlm12.append(eff12)"
   ]
  },
  {
   "cell_type": "code",
   "execution_count": 41,
   "id": "754a7d61-5ecc-47a0-b1e7-40bdeb313ff1",
   "metadata": {},
   "outputs": [
    {
     "name": "stderr",
     "output_type": "stream",
     "text": [
      "/home/guanyu/miniconda3/envs/sqs/lib/python3.10/site-packages/pymatgen/analysis/solar/slme.py:228: RuntimeWarning: overflow encountered in exp\n",
      "  absorbed_by_wavelength = 1.0 - np.exp(-2.0 * material_interpolated_absorbance * thickness)\n",
      "/home/guanyu/miniconda3/envs/sqs/lib/python3.10/site-packages/pymatgen/analysis/solar/slme.py:246: RuntimeWarning: invalid value encountered in scalar subtract\n",
      "  return J_sc - J_0 * (np.exp(e * V / (k * temperature)) - 1.0)\n",
      "/home/guanyu/miniconda3/envs/sqs/lib/python3.10/site-packages/pymatgen/analysis/solar/slme.py:246: RuntimeWarning: invalid value encountered in scalar multiply\n",
      "  return J_sc - J_0 * (np.exp(e * V / (k * temperature)) - 1.0)\n"
     ]
    }
   ],
   "source": [
    "for i in thickness:\n",
    "    eff13 = data13 = slme.slme(energy13,alpha_cm13,material_data13[\"dir\"],material_data13[\"indir\"],thickness=i,absorbance_in_inverse_centimeters=True)\n",
    "    effSlm13.append(eff13)"
   ]
  },
  {
   "cell_type": "code",
   "execution_count": 42,
   "id": "26ca6fb2-dd99-487b-91b0-8683521a4678",
   "metadata": {},
   "outputs": [
    {
     "data": {
      "text/plain": [
       "<matplotlib.legend.Legend at 0x7fc9d1d621a0>"
      ]
     },
     "execution_count": 42,
     "metadata": {},
     "output_type": "execute_result"
    },
    {
     "data": {
      "image/png": "[encoded data removed]",
      "text/plain": [
       "<Figure size 640x480 with 1 Axes>"
      ]
     },
     "metadata": {},
     "output_type": "display_data"
    }
   ],
   "source": [
    "ax = plt.axes()\n",
    "\n",
    "plt.plot(thickness_nm, effSlm1, label = 'I_hybrid')\n",
    "\n",
    "plt.plot(thickness_nm, effSlm2, label = 'Br_hybrid')\n",
    "\n",
    "plt.plot(thickness_nm, effSlm3, label = 'Br1I11')\n",
    "\n",
    "plt.plot(thickness_nm, effSlm4, label = 'Br2I10')\n",
    "\n",
    "plt.plot(thickness_nm, effSlm5, label = 'Br3I9')\n",
    "\n",
    "#plt.plot(thickness_nm, effSlm6, label = 'Br4I8')\n",
    "\n",
    "plt.plot(thickness_nm, effSlm7, label = 'Br5I7')\n",
    "\n",
    "plt.plot(thickness_nm, effSlm8, label = 'Br6I6')\n",
    "\n",
    "plt.plot(thickness_nm, effSlm9, label = 'Br7I5')\n",
    "\n",
    "#plt.plot(thickness_nm, effSlm10, label = 'Br8I4')\n",
    "\n",
    "#plt.plot(thickness_nm, effSlm11, label = 'Br9I3')\n",
    "\n",
    "#plt.plot(thickness_nm, effSlm12, label = 'Br10I2')\n",
    "\n",
    "plt.plot(thickness_nm, effSlm13, label = 'Br11I1')\n",
    "\n",
    "# Format your own plot\n",
    "plt.xscale('log')\n",
    "plt.margins(x=0)\n",
    "plt.xlabel('Film Thickness / nm')\n",
    "plt.ylabel('Max PV Efficiency $(\\\\eta_{Max})$ / % ')\n",
    "plt.legend()\n",
    "\n",
    "# plt.savefig('path_to_your_folder', format='pdf')"
   ]
  },
  {
   "cell_type": "code",
   "execution_count": null,
   "id": "360a75ab-5921-4a21-a234-eccce81e545f",
   "metadata": {},
   "outputs": [],
   "source": []
  }
 ],
 "metadata": {
  "kernelspec": {
   "display_name": "Python 3 (ipykernel)",
   "language": "python",
   "name": "python3"
  },
  "language_info": {
   "codemirror_mode": {
    "name": "ipython",
    "version": 3
   },
   "file_extension": ".py",
   "mimetype": "text/x-python",
   "name": "python",
   "nbconvert_exporter": "python",
   "pygments_lexer": "ipython3",
   "version": "3.10.14"
  }
 },
 "nbformat": 4,
 "nbformat_minor": 5
}
