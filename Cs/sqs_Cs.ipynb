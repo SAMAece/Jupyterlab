
 "cells": [
  {
   "cell_type": "code",
   "execution_count": 1,
   "id": "bcbf7636-c649-4728-be0b-4cb17c1ff38b",
   "metadata": {
    "tags": []
   },
   "outputs": [],
   "source": [
    "from ase.io import read\n",
    "from ase import Atoms\n",
    "import numpy as np\n",
    "from icet import ClusterSpace\n",
    "from icet.tools.structure_generation import  generate_sqs_from_supercells\n",
    "from icet.input_output.logging_tools import set_log_config\n",
    "\n",
    "\n",
    "i_atoms = read(\"POSCAR_CsI\")\n",
    "br_atoms = read(\"POSCAR_CsBr\")"
   ]
  },
  {
   "cell_type": "code",
   "execution_count": 2,
   "id": "98032ef3-b9e9-4786-b053-c3e727a16553",
   "metadata": {
    "tags": []
   },
   "outputs": [],
   "source": [
    "cell_diff = (i_atoms.cell - br_atoms.cell)"
   ]
  },
  {
   "cell_type": "code",
   "execution_count": 3,
   "id": "30776670-f8cf-4361-a012-6f8fff2500c0",
   "metadata": {},
   "outputs": [
    {
     "name": "stdout",
     "output_type": "stream",
     "text": [
      "Br  [6.41414499 6.41414499 6.41414499]\n",
      "I  [6.41414499 6.41414499 6.41414499]\n"
     ]
    }
   ],
   "source": [
    "print(\"Br \", np.diag(br_atoms.cell))\n",
    "print(\"I \", np.diag(i_atoms.cell))"
   ]
  },
  {
   "cell_type": "code",
   "execution_count": 4,
   "id": "c6c8bd8c-b457-4427-902f-a615bbba2336",
   "metadata": {
    "tags": []
   },
   "outputs": [],
   "source": [
    "set_log_config(level='INFO')\n",
    "\n",
    "species = [\n",
    "    [\"I\", \"Br\"] if species == \"Br\" else [species]\n",
    "    for species in br_atoms.get_chemical_symbols()\n",
    "]"
   ]
  },
  {
   "cell_type": "code",
   "execution_count": 5,
   "id": "dd7385fd-36cf-4724-8da5-88d9fe56f2fc",
   "metadata": {
    "tags": []
   },
   "outputs": [
    {
     "name": "stdout",
     "output_type": "stream",
     "text": [
      "icet.orbit_list: INFO  Done getting matrix_of_equivalent_positions.\n",
      "icet.orbit_list: INFO  Done getting neighbor lists.\n",
      "icet.orbit_list: INFO  Transformation of matrix of equivalent positions to lattice neighbor format completed.\n",
      "icet.orbit_list: INFO  Finished construction of orbit list.\n",
      "icet.target_cluster_vector_annealing: INFO  Initializing target cluster vector annealing with 1 supercells\n",
      "icet.target_cluster_vector_annealing: INFO  MC step 0/60000 (0 accepted trials, temperature 5.000), best score: 0.134\n",
      "icet.target_cluster_vector_annealing: INFO  MC step 1000/60000 (992 accepted trials, temperature 1.861), best score: 0.021\n",
      "icet.target_cluster_vector_annealing: INFO  MC step 2000/60000 (1984 accepted trials, temperature 1.546), best score: 0.021\n",
      "icet.target_cluster_vector_annealing: INFO  MC step 3000/60000 (2975 accepted trials, temperature 1.362), best score: 0.015\n",
      "icet.target_cluster_vector_annealing: INFO  MC step 4000/60000 (3972 accepted trials, temperature 1.231), best score: 0.015\n",
      "icet.target_cluster_vector_annealing: INFO  MC step 5000/60000 (4966 accepted trials, temperature 1.130), best score: 0.015\n",
      "icet.target_cluster_vector_annealing: INFO  MC step 6000/60000 (5962 accepted trials, temperature 1.047), best score: 0.015\n",
      "icet.target_cluster_vector_annealing: INFO  MC step 7000/60000 (6956 accepted trials, temperature 0.977), best score: 0.013\n",
      "icet.target_cluster_vector_annealing: INFO  MC step 8000/60000 (7947 accepted trials, temperature 0.917), best score: 0.013\n",
      "icet.target_cluster_vector_annealing: INFO  MC step 9000/60000 (8937 accepted trials, temperature 0.863), best score: 0.013\n",
      "icet.target_cluster_vector_annealing: INFO  MC step 10000/60000 (9926 accepted trials, temperature 0.815), best score: 0.013\n",
      "icet.target_cluster_vector_annealing: INFO  MC step 11000/60000 (10914 accepted trials, temperature 0.772), best score: 0.013\n",
      "icet.target_cluster_vector_annealing: INFO  MC step 12000/60000 (11902 accepted trials, temperature 0.732), best score: 0.013\n",
      "icet.target_cluster_vector_annealing: INFO  MC step 13000/60000 (12888 accepted trials, temperature 0.696), best score: 0.013\n",
      "icet.target_cluster_vector_annealing: INFO  MC step 14000/60000 (13876 accepted trials, temperature 0.662), best score: 0.013\n",
      "icet.target_cluster_vector_annealing: INFO  MC step 15000/60000 (14861 accepted trials, temperature 0.631), best score: 0.013\n",
      "icet.target_cluster_vector_annealing: INFO  MC step 16000/60000 (15846 accepted trials, temperature 0.602), best score: 0.013\n",
      "icet.target_cluster_vector_annealing: INFO  MC step 17000/60000 (16833 accepted trials, temperature 0.574), best score: 0.013\n",
      "icet.target_cluster_vector_annealing: INFO  MC step 18000/60000 (17824 accepted trials, temperature 0.548), best score: 0.013\n",
      "icet.target_cluster_vector_annealing: INFO  MC step 19000/60000 (18804 accepted trials, temperature 0.523), best score: 0.013\n",
      "icet.target_cluster_vector_annealing: INFO  MC step 20000/60000 (19789 accepted trials, temperature 0.500), best score: 0.013\n",
      "icet.target_cluster_vector_annealing: INFO  MC step 21000/60000 (20762 accepted trials, temperature 0.478), best score: 0.013\n",
      "icet.target_cluster_vector_annealing: INFO  MC step 22000/60000 (21742 accepted trials, temperature 0.457), best score: 0.013\n",
      "icet.target_cluster_vector_annealing: INFO  MC step 23000/60000 (22709 accepted trials, temperature 0.437), best score: 0.013\n",
      "icet.target_cluster_vector_annealing: INFO  MC step 24000/60000 (23688 accepted trials, temperature 0.417), best score: 0.013\n",
      "icet.target_cluster_vector_annealing: INFO  MC step 25000/60000 (24662 accepted trials, temperature 0.399), best score: 0.013\n",
      "icet.target_cluster_vector_annealing: INFO  MC step 26000/60000 (25638 accepted trials, temperature 0.381), best score: 0.013\n",
      "icet.target_cluster_vector_annealing: INFO  MC step 27000/60000 (26604 accepted trials, temperature 0.364), best score: 0.013\n",
      "icet.target_cluster_vector_annealing: INFO  MC step 28000/60000 (27583 accepted trials, temperature 0.347), best score: 0.013\n",
      "icet.target_cluster_vector_annealing: INFO  MC step 29000/60000 (28554 accepted trials, temperature 0.331), best score: 0.013\n",
      "icet.target_cluster_vector_annealing: INFO  MC step 30000/60000 (29538 accepted trials, temperature 0.316), best score: 0.013\n",
      "icet.target_cluster_vector_annealing: INFO  MC step 31000/60000 (30513 accepted trials, temperature 0.301), best score: 0.013\n",
      "icet.target_cluster_vector_annealing: INFO  MC step 32000/60000 (31475 accepted trials, temperature 0.287), best score: 0.013\n",
      "icet.target_cluster_vector_annealing: INFO  MC step 33000/60000 (32434 accepted trials, temperature 0.273), best score: 0.013\n",
      "icet.target_cluster_vector_annealing: INFO  MC step 34000/60000 (33415 accepted trials, temperature 0.259), best score: 0.013\n",
      "icet.target_cluster_vector_annealing: INFO  MC step 35000/60000 (34380 accepted trials, temperature 0.246), best score: 0.013\n",
      "icet.target_cluster_vector_annealing: INFO  MC step 36000/60000 (35330 accepted trials, temperature 0.233), best score: 0.013\n",
      "icet.target_cluster_vector_annealing: INFO  MC step 37000/60000 (36290 accepted trials, temperature 0.221), best score: 0.013\n",
      "icet.target_cluster_vector_annealing: INFO  MC step 38000/60000 (37253 accepted trials, temperature 0.209), best score: 0.013\n",
      "icet.target_cluster_vector_annealing: INFO  MC step 39000/60000 (38194 accepted trials, temperature 0.197), best score: 0.013\n",
      "icet.target_cluster_vector_annealing: INFO  MC step 40000/60000 (39140 accepted trials, temperature 0.185), best score: 0.013\n",
      "icet.target_cluster_vector_annealing: INFO  MC step 41000/60000 (40102 accepted trials, temperature 0.174), best score: 0.013\n",
      "icet.target_cluster_vector_annealing: INFO  MC step 42000/60000 (41041 accepted trials, temperature 0.163), best score: 0.013\n",
      "icet.target_cluster_vector_annealing: INFO  MC step 43000/60000 (41986 accepted trials, temperature 0.152), best score: 0.013\n",
      "icet.target_cluster_vector_annealing: INFO  MC step 44000/60000 (42925 accepted trials, temperature 0.142), best score: 0.013\n",
      "icet.target_cluster_vector_annealing: INFO  MC step 45000/60000 (43852 accepted trials, temperature 0.132), best score: 0.013\n",
      "icet.target_cluster_vector_annealing: INFO  MC step 46000/60000 (44777 accepted trials, temperature 0.122), best score: 0.013\n",
      "icet.target_cluster_vector_annealing: INFO  MC step 47000/60000 (45691 accepted trials, temperature 0.112), best score: 0.013\n",
      "icet.target_cluster_vector_annealing: INFO  MC step 48000/60000 (46595 accepted trials, temperature 0.102), best score: 0.013\n",
      "icet.target_cluster_vector_annealing: INFO  MC step 49000/60000 (47504 accepted trials, temperature 0.093), best score: 0.013\n",
      "icet.target_cluster_vector_annealing: INFO  MC step 50000/60000 (48393 accepted trials, temperature 0.084), best score: 0.013\n",
      "icet.target_cluster_vector_annealing: INFO  MC step 51000/60000 (49259 accepted trials, temperature 0.075), best score: 0.013\n",
      "icet.target_cluster_vector_annealing: INFO  MC step 52000/60000 (50142 accepted trials, temperature 0.066), best score: 0.013\n",
      "icet.target_cluster_vector_annealing: INFO  MC step 53000/60000 (50996 accepted trials, temperature 0.057), best score: 0.013\n",
      "icet.target_cluster_vector_annealing: INFO  MC step 54000/60000 (51833 accepted trials, temperature 0.049), best score: 0.013\n",
      "icet.target_cluster_vector_annealing: INFO  MC step 55000/60000 (52629 accepted trials, temperature 0.041), best score: 0.013\n",
      "icet.target_cluster_vector_annealing: INFO  MC step 56000/60000 (53382 accepted trials, temperature 0.032), best score: 0.013\n",
      "icet.target_cluster_vector_annealing: INFO  MC step 57000/60000 (54075 accepted trials, temperature 0.024), best score: 0.013\n",
      "icet.target_cluster_vector_annealing: INFO  MC step 58000/60000 (54684 accepted trials, temperature 0.016), best score: 0.013\n",
      "icet.target_cluster_vector_annealing: INFO  MC step 59000/60000 (55118 accepted trials, temperature 0.009), best score: 0.013\n",
      "icet.orbit_list: INFO  Done getting matrix_of_equivalent_positions.\n",
      "icet.orbit_list: INFO  Done getting neighbor lists.\n",
      "icet.orbit_list: INFO  Transformation of matrix of equivalent positions to lattice neighbor format completed.\n",
      "icet.orbit_list: INFO  Finished construction of orbit list.\n",
      "icet.target_cluster_vector_annealing: INFO  Initializing target cluster vector annealing with 1 supercells\n",
      "icet.target_cluster_vector_annealing: INFO  MC step 0/60000 (0 accepted trials, temperature 5.000), best score: 0.080\n",
      "icet.target_cluster_vector_annealing: INFO  MC step 1000/60000 (992 accepted trials, temperature 1.861), best score: 0.019\n",
      "icet.target_cluster_vector_annealing: INFO  MC step 2000/60000 (1988 accepted trials, temperature 1.546), best score: 0.019\n",
      "icet.target_cluster_vector_annealing: INFO  MC step 3000/60000 (2981 accepted trials, temperature 1.362), best score: 0.019\n",
      "icet.target_cluster_vector_annealing: INFO  MC step 4000/60000 (3976 accepted trials, temperature 1.231), best score: 0.019\n",
      "icet.target_cluster_vector_annealing: INFO  MC step 5000/60000 (4969 accepted trials, temperature 1.130), best score: 0.019\n",
      "icet.target_cluster_vector_annealing: INFO  MC step 6000/60000 (5957 accepted trials, temperature 1.047), best score: 0.019\n",
      "icet.target_cluster_vector_annealing: INFO  MC step 7000/60000 (6949 accepted trials, temperature 0.977), best score: 0.016\n",
      "icet.target_cluster_vector_annealing: INFO  MC step 8000/60000 (7943 accepted trials, temperature 0.917), best score: 0.016\n",
      "icet.target_cluster_vector_annealing: INFO  MC step 9000/60000 (8936 accepted trials, temperature 0.863), best score: 0.016\n",
      "icet.target_cluster_vector_annealing: INFO  MC step 10000/60000 (9927 accepted trials, temperature 0.815), best score: 0.016\n",
      "icet.target_cluster_vector_annealing: INFO  MC step 11000/60000 (10915 accepted trials, temperature 0.772), best score: 0.013\n",
      "icet.target_cluster_vector_annealing: INFO  MC step 12000/60000 (11903 accepted trials, temperature 0.732), best score: 0.013\n",
      "icet.target_cluster_vector_annealing: INFO  MC step 13000/60000 (12887 accepted trials, temperature 0.696), best score: 0.013\n",
      "icet.target_cluster_vector_annealing: INFO  MC step 14000/60000 (13871 accepted trials, temperature 0.662), best score: 0.013\n",
      "icet.target_cluster_vector_annealing: INFO  MC step 15000/60000 (14857 accepted trials, temperature 0.631), best score: 0.013\n",
      "icet.target_cluster_vector_annealing: INFO  MC step 16000/60000 (15841 accepted trials, temperature 0.602), best score: 0.013\n",
      "icet.target_cluster_vector_annealing: INFO  MC step 17000/60000 (16821 accepted trials, temperature 0.574), best score: 0.013\n",
      "icet.target_cluster_vector_annealing: INFO  MC step 18000/60000 (17806 accepted trials, temperature 0.548), best score: 0.013\n",
      "icet.target_cluster_vector_annealing: INFO  MC step 19000/60000 (18790 accepted trials, temperature 0.523), best score: 0.013\n",
      "icet.target_cluster_vector_annealing: INFO  MC step 20000/60000 (19772 accepted trials, temperature 0.500), best score: 0.013\n",
      "icet.target_cluster_vector_annealing: INFO  MC step 21000/60000 (20751 accepted trials, temperature 0.478), best score: 0.013\n",
      "icet.target_cluster_vector_annealing: INFO  MC step 22000/60000 (21732 accepted trials, temperature 0.457), best score: 0.013\n",
      "icet.target_cluster_vector_annealing: INFO  MC step 23000/60000 (22702 accepted trials, temperature 0.437), best score: 0.013\n",
      "icet.target_cluster_vector_annealing: INFO  MC step 24000/60000 (23685 accepted trials, temperature 0.417), best score: 0.013\n",
      "icet.target_cluster_vector_annealing: INFO  MC step 25000/60000 (24656 accepted trials, temperature 0.399), best score: 0.013\n",
      "icet.target_cluster_vector_annealing: INFO  MC step 26000/60000 (25628 accepted trials, temperature 0.381), best score: 0.013\n",
      "icet.target_cluster_vector_annealing: INFO  MC step 27000/60000 (26601 accepted trials, temperature 0.364), best score: 0.013\n",
      "icet.target_cluster_vector_annealing: INFO  MC step 28000/60000 (27579 accepted trials, temperature 0.347), best score: 0.013\n",
      "icet.target_cluster_vector_annealing: INFO  MC step 29000/60000 (28558 accepted trials, temperature 0.331), best score: 0.013\n",
      "icet.target_cluster_vector_annealing: INFO  MC step 30000/60000 (29537 accepted trials, temperature 0.316), best score: 0.013\n",
      "icet.target_cluster_vector_annealing: INFO  MC step 31000/60000 (30517 accepted trials, temperature 0.301), best score: 0.013\n",
      "icet.target_cluster_vector_annealing: INFO  MC step 32000/60000 (31485 accepted trials, temperature 0.287), best score: 0.013\n",
      "icet.target_cluster_vector_annealing: INFO  MC step 33000/60000 (32436 accepted trials, temperature 0.273), best score: 0.013\n",
      "icet.target_cluster_vector_annealing: INFO  MC step 34000/60000 (33402 accepted trials, temperature 0.259), best score: 0.013\n",
      "icet.target_cluster_vector_annealing: INFO  MC step 35000/60000 (34366 accepted trials, temperature 0.246), best score: 0.013\n",
      "icet.target_cluster_vector_annealing: INFO  MC step 36000/60000 (35337 accepted trials, temperature 0.233), best score: 0.013\n",
      "icet.target_cluster_vector_annealing: INFO  MC step 37000/60000 (36287 accepted trials, temperature 0.221), best score: 0.013\n",
      "icet.target_cluster_vector_annealing: INFO  MC step 38000/60000 (37242 accepted trials, temperature 0.209), best score: 0.013\n",
      "icet.target_cluster_vector_annealing: INFO  MC step 39000/60000 (38195 accepted trials, temperature 0.197), best score: 0.013\n",
      "icet.target_cluster_vector_annealing: INFO  MC step 40000/60000 (39151 accepted trials, temperature 0.185), best score: 0.013\n",
      "icet.target_cluster_vector_annealing: INFO  MC step 41000/60000 (40098 accepted trials, temperature 0.174), best score: 0.013\n",
      "icet.target_cluster_vector_annealing: INFO  MC step 42000/60000 (41045 accepted trials, temperature 0.163), best score: 0.013\n",
      "icet.target_cluster_vector_annealing: INFO  MC step 43000/60000 (41982 accepted trials, temperature 0.152), best score: 0.013\n",
      "icet.target_cluster_vector_annealing: INFO  MC step 44000/60000 (42921 accepted trials, temperature 0.142), best score: 0.013\n",
      "icet.target_cluster_vector_annealing: INFO  MC step 45000/60000 (43824 accepted trials, temperature 0.132), best score: 0.013\n",
      "icet.target_cluster_vector_annealing: INFO  MC step 46000/60000 (44746 accepted trials, temperature 0.122), best score: 0.013\n",
      "icet.target_cluster_vector_annealing: INFO  MC step 47000/60000 (45659 accepted trials, temperature 0.112), best score: 0.013\n",
      "icet.target_cluster_vector_annealing: INFO  MC step 48000/60000 (46553 accepted trials, temperature 0.102), best score: 0.013\n",
      "icet.target_cluster_vector_annealing: INFO  MC step 49000/60000 (47454 accepted trials, temperature 0.093), best score: 0.013\n",
      "icet.target_cluster_vector_annealing: INFO  MC step 50000/60000 (48354 accepted trials, temperature 0.084), best score: 0.013\n",
      "icet.target_cluster_vector_annealing: INFO  MC step 51000/60000 (49236 accepted trials, temperature 0.075), best score: 0.013\n",
      "icet.target_cluster_vector_annealing: INFO  MC step 52000/60000 (50078 accepted trials, temperature 0.066), best score: 0.013\n",
      "icet.target_cluster_vector_annealing: INFO  MC step 53000/60000 (50931 accepted trials, temperature 0.057), best score: 0.013\n",
      "icet.target_cluster_vector_annealing: INFO  MC step 54000/60000 (51761 accepted trials, temperature 0.049), best score: 0.013\n",
      "icet.target_cluster_vector_annealing: INFO  MC step 55000/60000 (52556 accepted trials, temperature 0.041), best score: 0.013\n",
      "icet.target_cluster_vector_annealing: INFO  MC step 56000/60000 (53304 accepted trials, temperature 0.032), best score: 0.013\n",
      "icet.target_cluster_vector_annealing: INFO  MC step 57000/60000 (54017 accepted trials, temperature 0.024), best score: 0.013\n",
      "icet.target_cluster_vector_annealing: INFO  MC step 58000/60000 (54619 accepted trials, temperature 0.016), best score: 0.013\n",
      "icet.target_cluster_vector_annealing: INFO  MC step 59000/60000 (55067 accepted trials, temperature 0.009), best score: 0.013\n"
     ]
    }
   ],
   "source": [
    "from pymatgen.io.ase import AseAtomsAdaptor\n",
    "\n",
    "for i in range(1, 3):\n",
    "    frac = i / 3\n",
    "    new_cell = br_atoms.cell + frac * cell_diff\n",
    "    \n",
    "    new_atoms = Atoms(\n",
    "        numbers=br_atoms.numbers,\n",
    "        positions=br_atoms.positions,\n",
    "        cell=new_cell,\n",
    "        pbc=[True, True, True]\n",
    "    )\n",
    "    \n",
    "    cs = ClusterSpace(new_atoms, [8.0, 4.0], species)\n",
    "    target_concentrations = {'Br': (3-i)/3, 'I': i/3}\n",
    "    \n",
    "    supercell = new_atoms.repeat((4, 4, 4))\n",
    "    \n",
    "    sqs = generate_sqs_from_supercells(\n",
    "        cluster_space=cs,\n",
    "        supercells=[supercell],\n",
    "        target_concentrations=target_concentrations,\n",
    "        n_steps=60000\n",
    "    )\n",
    "    \n",
    "    sqs = AseAtomsAdaptor().get_structure(sqs)\n",
    "    sqs = sqs.get_sorted_structure()\n",
    "    _ = sqs.to(filename=f\"POSCAR_Br{3-i}_I{i}.vasp\", fmt=\"vasp\")"
   ]
  },
  {
   "cell_type": "code",
   "execution_count": null,
   "id": "8c199673-996a-44fd-9127-e9f0eb0b1791",
   "metadata": {
    "tags": []
   },
   "outputs": [],
   "source": []
  },
  {
   "cell_type": "code",
   "execution_count": null,
   "id": "25d8cc10-7a46-4a5d-abdc-576f238994db",
   "metadata": {},
   "outputs": [],
   "source": []
  }
 ],
 "metadata": {
  "kernelspec": {
   "display_name": "Python 3 (ipykernel)",
   "language": "python",
   "name": "python3"
  },
  "language_info": {
   "codemirror_mode": {
    "name": "ipython",
    "version": 3
   },
   "file_extension": ".py",
   "mimetype": "text/x-python",
   "name": "python",
   "nbconvert_exporter": "python",
   "pygments_lexer": "ipython3",
   "version": "3.10.14"
  }
 },
 "nbformat": 4,
 "nbformat_minor": 5
}
